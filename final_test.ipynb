{
 "cells": [
  {
   "cell_type": "markdown",
   "metadata": {},
   "source": [
    "# Scenario\n",
    "**Chicago Airbnb**\n",
    "\n",
    "You and a group of friends are\n",
    "considering purchasing a property in\n",
    "Chicago that you can use as an\n",
    "investment. You have heard from other\n",
    "people that they have made a lot of\n",
    "money by renting out either a room or\n",
    "an entire unit (apartment or house). Your\n",
    "friends ask you to analyze data so that\n",
    "they can understand how much you\n",
    "would charge per night based on the\n",
    "type of dwelling you were to purchase.\n",
    "\n",
    "**Dataset:**\n",
    "https://www.kaggle.com/datasets/jinbonnie/chicago-airbnb-open-data"
   ]
  },
  {
   "cell_type": "markdown",
   "metadata": {},
   "source": [
    "Time to test the model and optimization of the price on the 100 samples set aside at the beginning of the project."
   ]
  },
  {
   "cell_type": "markdown",
   "metadata": {},
   "source": [
    "# Imports"
   ]
  },
  {
   "cell_type": "code",
   "execution_count": 1,
   "metadata": {},
   "outputs": [],
   "source": [
    "import pandas as pd\n",
    "import pandas as pd\n",
    "from sklearn.metrics import mean_squared_error, mean_absolute_error, r2_score\n",
    "from tqdm import tqdm\n",
    "tqdm.pandas()\n",
    "\n",
    "import utils"
   ]
  },
  {
   "cell_type": "markdown",
   "metadata": {},
   "source": [
    "# Load the data"
   ]
  },
  {
   "cell_type": "code",
   "execution_count": 2,
   "metadata": {},
   "outputs": [
    {
     "name": "stdout",
     "output_type": "stream",
     "text": [
      "<class 'pandas.core.frame.DataFrame'>\n",
      "RangeIndex: 100 entries, 0 to 99\n",
      "Data columns (total 16 columns):\n",
      " #   Column                          Non-Null Count  Dtype  \n",
      "---  ------                          --------------  -----  \n",
      " 0   id                              100 non-null    int64  \n",
      " 1   name                            100 non-null    object \n",
      " 2   host_id                         100 non-null    int64  \n",
      " 3   host_name                       100 non-null    object \n",
      " 4   neighbourhood_group             0 non-null      float64\n",
      " 5   neighbourhood                   100 non-null    object \n",
      " 6   latitude                        100 non-null    float64\n",
      " 7   longitude                       100 non-null    float64\n",
      " 8   room_type                       100 non-null    object \n",
      " 9   price                           100 non-null    int64  \n",
      " 10  minimum_nights                  100 non-null    int64  \n",
      " 11  number_of_reviews               100 non-null    int64  \n",
      " 12  last_review                     82 non-null     object \n",
      " 13  reviews_per_month               82 non-null     float64\n",
      " 14  calculated_host_listings_count  100 non-null    int64  \n",
      " 15  availability_365                100 non-null    int64  \n",
      "dtypes: float64(4), int64(7), object(5)\n",
      "memory usage: 12.6+ KB\n"
     ]
    }
   ],
   "source": [
    "raw_test = pd.read_csv('live_test_data.csv')\n",
    "raw_test.info()"
   ]
  },
  {
   "cell_type": "markdown",
   "metadata": {},
   "source": [
    "# Data Preparation"
   ]
  },
  {
   "cell_type": "code",
   "execution_count": 3,
   "metadata": {},
   "outputs": [
    {
     "name": "stdout",
     "output_type": "stream",
     "text": [
      "<class 'pandas.core.frame.DataFrame'>\n",
      "Index: 99 entries, 0 to 99\n",
      "Data columns (total 16 columns):\n",
      " #   Column                        Non-Null Count  Dtype   \n",
      "---  ------                        --------------  -----   \n",
      " 0   neighbourhood                 99 non-null     category\n",
      " 1   latitude                      99 non-null     float64 \n",
      " 2   longitude                     99 non-null     float64 \n",
      " 3   room_type                     99 non-null     category\n",
      " 4   price                         99 non-null     int64   \n",
      " 5   log_days_since_last_review    99 non-null     float64 \n",
      " 6   log_reviews_per_month         99 non-null     float64 \n",
      " 7   log_number_of_reviews         99 non-null     float64 \n",
      " 8   log_price                     99 non-null     float64 \n",
      " 9   log_minimum_nights            99 non-null     float64 \n",
      " 10  log_host_listings_count       99 non-null     float64 \n",
      " 11  log_nights_booked             99 non-null     float64 \n",
      " 12  host_listings_minimum_nights  99 non-null     float64 \n",
      " 13  price^2                       99 non-null     int64   \n",
      " 14  price^3                       99 non-null     int64   \n",
      " 15  price^4                       99 non-null     int64   \n",
      "dtypes: category(2), float64(10), int64(4)\n",
      "memory usage: 12.7 KB\n"
     ]
    }
   ],
   "source": [
    "df = utils.prepare_data(raw_test)\n",
    "df.info()"
   ]
  },
  {
   "cell_type": "markdown",
   "metadata": {},
   "source": [
    "# Target and Features"
   ]
  },
  {
   "cell_type": "code",
   "execution_count": 4,
   "metadata": {},
   "outputs": [],
   "source": [
    "X, y = df.drop(columns='log_nights_booked'), df['log_nights_booked']"
   ]
  },
  {
   "cell_type": "markdown",
   "metadata": {},
   "source": [
    "# Test the model"
   ]
  },
  {
   "cell_type": "code",
   "execution_count": 5,
   "metadata": {},
   "outputs": [
    {
     "name": "stdout",
     "output_type": "stream",
     "text": [
      "MSE: 0.5266585059277162, MAE: 0.5011382765269756, R2: 0.4539547469053261\n"
     ]
    }
   ],
   "source": [
    "mse = mean_squared_error(y, utils.pipe.predict(X))\n",
    "mae = mean_absolute_error(y, utils.pipe.predict(X))\n",
    "r2 = r2_score(y, utils.pipe.predict(X))\n",
    "print(f'MSE: {mse}, MAE: {mae}, R2: {r2}')"
   ]
  },
  {
   "cell_type": "markdown",
   "metadata": {},
   "source": [
    "# Optimize the price"
   ]
  },
  {
   "cell_type": "code",
   "execution_count": 6,
   "metadata": {},
   "outputs": [
    {
     "data": {
      "text/html": [
       "<div>\n",
       "<style scoped>\n",
       "    .dataframe tbody tr th:only-of-type {\n",
       "        vertical-align: middle;\n",
       "    }\n",
       "\n",
       "    .dataframe tbody tr th {\n",
       "        vertical-align: top;\n",
       "    }\n",
       "\n",
       "    .dataframe thead th {\n",
       "        text-align: right;\n",
       "    }\n",
       "</style>\n",
       "<table border=\"1\" class=\"dataframe\">\n",
       "  <thead>\n",
       "    <tr style=\"text-align: right;\">\n",
       "      <th></th>\n",
       "      <th>id</th>\n",
       "      <th>name</th>\n",
       "      <th>host_id</th>\n",
       "      <th>host_name</th>\n",
       "      <th>neighbourhood_group</th>\n",
       "      <th>neighbourhood</th>\n",
       "      <th>latitude</th>\n",
       "      <th>longitude</th>\n",
       "      <th>room_type</th>\n",
       "      <th>price</th>\n",
       "      <th>minimum_nights</th>\n",
       "      <th>number_of_reviews</th>\n",
       "      <th>last_review</th>\n",
       "      <th>reviews_per_month</th>\n",
       "      <th>calculated_host_listings_count</th>\n",
       "      <th>availability_365</th>\n",
       "    </tr>\n",
       "  </thead>\n",
       "  <tbody>\n",
       "    <tr>\n",
       "      <th>77</th>\n",
       "      <td>1755737</td>\n",
       "      <td>Lake View 2BR/2Bath w/ Pool, Gym. Annual lease.</td>\n",
       "      <td>9233414</td>\n",
       "      <td>Ravi</td>\n",
       "      <td>NaN</td>\n",
       "      <td>Lake View</td>\n",
       "      <td>41.94036</td>\n",
       "      <td>-87.64068</td>\n",
       "      <td>Entire home/apt</td>\n",
       "      <td>155</td>\n",
       "      <td>365</td>\n",
       "      <td>0</td>\n",
       "      <td>NaN</td>\n",
       "      <td>NaN</td>\n",
       "      <td>1</td>\n",
       "      <td>363</td>\n",
       "    </tr>\n",
       "  </tbody>\n",
       "</table>\n",
       "</div>"
      ],
      "text/plain": [
       "         id                                             name  host_id  \\\n",
       "77  1755737  Lake View 2BR/2Bath w/ Pool, Gym. Annual lease.  9233414   \n",
       "\n",
       "   host_name  neighbourhood_group neighbourhood  latitude  longitude  \\\n",
       "77      Ravi                  NaN     Lake View  41.94036  -87.64068   \n",
       "\n",
       "          room_type  price  minimum_nights  number_of_reviews last_review  \\\n",
       "77  Entire home/apt    155             365                  0         NaN   \n",
       "\n",
       "    reviews_per_month  calculated_host_listings_count  availability_365  \n",
       "77                NaN                               1               363  "
      ]
     },
     "execution_count": 6,
     "metadata": {},
     "output_type": "execute_result"
    }
   ],
   "source": [
    "dropped = raw_test[~raw_test.index.isin(df.index)]\n",
    "dropped"
   ]
  },
  {
   "cell_type": "markdown",
   "metadata": {},
   "source": [
    "This sample has a minimum nights of 365, so the price will have to be determined outside the model."
   ]
  },
  {
   "cell_type": "code",
   "execution_count": 7,
   "metadata": {},
   "outputs": [
    {
     "name": "stderr",
     "output_type": "stream",
     "text": [
      "100%|██████████| 99/99 [04:52<00:00,  2.95s/it]\n"
     ]
    },
    {
     "data": {
      "text/html": [
       "<div>\n",
       "<style scoped>\n",
       "    .dataframe tbody tr th:only-of-type {\n",
       "        vertical-align: middle;\n",
       "    }\n",
       "\n",
       "    .dataframe tbody tr th {\n",
       "        vertical-align: top;\n",
       "    }\n",
       "\n",
       "    .dataframe thead th {\n",
       "        text-align: right;\n",
       "    }\n",
       "</style>\n",
       "<table border=\"1\" class=\"dataframe\">\n",
       "  <thead>\n",
       "    <tr style=\"text-align: right;\">\n",
       "      <th></th>\n",
       "      <th>name</th>\n",
       "      <th>best_revenue</th>\n",
       "      <th>best_price</th>\n",
       "      <th>best_bookings</th>\n",
       "    </tr>\n",
       "  </thead>\n",
       "  <tbody>\n",
       "    <tr>\n",
       "      <th>0</th>\n",
       "      <td>3 bdrm; free internet in pilsen/southloop</td>\n",
       "      <td>[40829.20867986918]</td>\n",
       "      <td>891.111111</td>\n",
       "      <td>[45.81831397990307]</td>\n",
       "    </tr>\n",
       "    <tr>\n",
       "      <th>1</th>\n",
       "      <td>English Lavender Room</td>\n",
       "      <td>[33081.8582491561]</td>\n",
       "      <td>396.161616</td>\n",
       "      <td>[83.50596549379026]</td>\n",
       "    </tr>\n",
       "    <tr>\n",
       "      <th>2</th>\n",
       "      <td>ROWULA HOUSE - WARM AFRICAN HOSPITALITY IN CHI...</td>\n",
       "      <td>[13486.656693609548]</td>\n",
       "      <td>891.111111</td>\n",
       "      <td>[15.1346521499359]</td>\n",
       "    </tr>\n",
       "    <tr>\n",
       "      <th>3</th>\n",
       "      <td>Spacious Sedgwick Condo - Steps to Old Town</td>\n",
       "      <td>[40913.910315142806]</td>\n",
       "      <td>901.010101</td>\n",
       "      <td>[45.408936336313204]</td>\n",
       "    </tr>\n",
       "    <tr>\n",
       "      <th>4</th>\n",
       "      <td>Quaint Serenity in Bronzeville</td>\n",
       "      <td>[40208.71041016412]</td>\n",
       "      <td>891.111111</td>\n",
       "      <td>[45.12199422586996]</td>\n",
       "    </tr>\n",
       "    <tr>\n",
       "      <th>...</th>\n",
       "      <td>...</td>\n",
       "      <td>...</td>\n",
       "      <td>...</td>\n",
       "      <td>...</td>\n",
       "    </tr>\n",
       "    <tr>\n",
       "      <th>95</th>\n",
       "      <td>1BR LUX in Loop. Excellent spot!</td>\n",
       "      <td>[17566.592522791158]</td>\n",
       "      <td>990.101010</td>\n",
       "      <td>[17.74222260514512]</td>\n",
       "    </tr>\n",
       "    <tr>\n",
       "      <th>96</th>\n",
       "      <td>CLEAN DOWNTOWN APARTMENT, SAFE AREA + FREE PAR...</td>\n",
       "      <td>[42837.132038953016]</td>\n",
       "      <td>891.111111</td>\n",
       "      <td>[48.07159455742857]</td>\n",
       "    </tr>\n",
       "    <tr>\n",
       "      <th>97</th>\n",
       "      <td>Skylit Boho Retreat - Wicker Park NO PARTIES</td>\n",
       "      <td>[39062.58372505547]</td>\n",
       "      <td>871.313131</td>\n",
       "      <td>[44.83185472734166]</td>\n",
       "    </tr>\n",
       "    <tr>\n",
       "      <th>98</th>\n",
       "      <td>Bright Gold Coast 1BR w/ Gym, Lounge, nr. Oak ...</td>\n",
       "      <td>[74138.83002862404]</td>\n",
       "      <td>990.101010</td>\n",
       "      <td>[74.88006705604754]</td>\n",
       "    </tr>\n",
       "    <tr>\n",
       "      <th>99</th>\n",
       "      <td>CHARMING COZY PRIVATE LAKEVIEW SUITE</td>\n",
       "      <td>[77978.87565307225]</td>\n",
       "      <td>851.515152</td>\n",
       "      <td>[91.57661553563644]</td>\n",
       "    </tr>\n",
       "  </tbody>\n",
       "</table>\n",
       "<p>99 rows × 4 columns</p>\n",
       "</div>"
      ],
      "text/plain": [
       "                                                 name          best_revenue  \\\n",
       "0           3 bdrm; free internet in pilsen/southloop   [40829.20867986918]   \n",
       "1                               English Lavender Room    [33081.8582491561]   \n",
       "2   ROWULA HOUSE - WARM AFRICAN HOSPITALITY IN CHI...  [13486.656693609548]   \n",
       "3         Spacious Sedgwick Condo - Steps to Old Town  [40913.910315142806]   \n",
       "4                      Quaint Serenity in Bronzeville   [40208.71041016412]   \n",
       "..                                                ...                   ...   \n",
       "95                   1BR LUX in Loop. Excellent spot!  [17566.592522791158]   \n",
       "96  CLEAN DOWNTOWN APARTMENT, SAFE AREA + FREE PAR...  [42837.132038953016]   \n",
       "97       Skylit Boho Retreat - Wicker Park NO PARTIES   [39062.58372505547]   \n",
       "98  Bright Gold Coast 1BR w/ Gym, Lounge, nr. Oak ...   [74138.83002862404]   \n",
       "99               CHARMING COZY PRIVATE LAKEVIEW SUITE   [77978.87565307225]   \n",
       "\n",
       "    best_price         best_bookings  \n",
       "0   891.111111   [45.81831397990307]  \n",
       "1   396.161616   [83.50596549379026]  \n",
       "2   891.111111    [15.1346521499359]  \n",
       "3   901.010101  [45.408936336313204]  \n",
       "4   891.111111   [45.12199422586996]  \n",
       "..         ...                   ...  \n",
       "95  990.101010   [17.74222260514512]  \n",
       "96  891.111111   [48.07159455742857]  \n",
       "97  871.313131   [44.83185472734166]  \n",
       "98  990.101010   [74.88006705604754]  \n",
       "99  851.515152   [91.57661553563644]  \n",
       "\n",
       "[99 rows x 4 columns]"
      ]
     },
     "execution_count": 7,
     "metadata": {},
     "output_type": "execute_result"
    }
   ],
   "source": [
    "raw_test = raw_test[raw_test.index.isin(df.index)]\n",
    "raw_test['best_revenue'], raw_test['best_price'], raw_test['best_bookings'] = zip(*X.progress_apply(utils.optimize_income, axis=1))\n",
    "raw_test[['name', 'best_revenue', 'best_price', 'best_bookings']]"
   ]
  },
  {
   "cell_type": "markdown",
   "metadata": {},
   "source": [
    "These results are probably not what one should actually set the price of these listings as. The model wasn't able to capture the full effect of raising the price on the demand for the listing.\n",
    "\n",
    "Though the price wasn't trying to be predicted, looking at the absolute difference to the actual price can give a sense just how far off these prices are."
   ]
  },
  {
   "cell_type": "code",
   "execution_count": 8,
   "metadata": {},
   "outputs": [
    {
     "data": {
      "text/plain": [
       "732.2425262728293"
      ]
     },
     "execution_count": 8,
     "metadata": {},
     "output_type": "execute_result"
    }
   ],
   "source": [
    "mean_absolute_error(raw_test.price, raw_test.best_price)"
   ]
  },
  {
   "cell_type": "markdown",
   "metadata": {},
   "source": [
    "# Summary/Reflection\n",
    "\n",
    "I certainly learned a lot by doing this and I'd like to think that even though the price optimizing technique I tried to use didn't work out, it is still a method that could work given the right data and the some tweaking. One of the issues could be that for a given room type the model never sees an example of the price being so high, so it doesn't know to predict a yearly booking rate of 0 for a price of 1000 dollars to stay in a shared room. \n",
    "\n",
    "Separating the data by room type and training a model for each type could be a way to get around this. That'd provide a more accurate range for the optimization function to search over. Adding some synthetic data could also help. Samples with prices above what anyone would pay for such a listing with the target set to 0 could help the model learn that high prices result in low/no bookings.\n",
    "\n",
    "I tried a different approach than just trying to make a model to predict the price based on the data. A model like this would probably gave better predictions than my methods, but such a model is only telling you what everyone else would set the price as, not what price will maximize your profit.\n",
    "\n",
    "Cleaning the data was fairly difficult. Deciding how to deal with missing values and categorizing the neighbourhood column took a lot of thought. I enjoyed trying to make the optimization function and I still don't think this method for setting the price should be dismissed. \n",
    "\n",
    "Now that I've done this project, I think I have a better understanding of creating and deploying a machine learning system. It added more complexity to track all the changes I made to the data along the way and keep functions for use with the final test set. I think I did a lot of things the hard way, but doing it the hard way this time I think will make the next time a lot easier. "
   ]
  }
 ],
 "metadata": {
  "kernelspec": {
   "display_name": "msds610",
   "language": "python",
   "name": "python3"
  },
  "language_info": {
   "codemirror_mode": {
    "name": "ipython",
    "version": 3
   },
   "file_extension": ".py",
   "mimetype": "text/x-python",
   "name": "python",
   "nbconvert_exporter": "python",
   "pygments_lexer": "ipython3",
   "version": "3.11.11"
  }
 },
 "nbformat": 4,
 "nbformat_minor": 2
}
